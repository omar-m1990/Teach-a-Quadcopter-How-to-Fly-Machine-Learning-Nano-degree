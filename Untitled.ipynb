{
 "cells": [
  {
   "cell_type": "code",
   "execution_count": 328,
   "metadata": {},
   "outputs": [],
   "source": [
    "from pandas_datareader import data\n",
    "import matplotlib.pyplot as plt\n",
    "from matplotlib import pyplot\n",
    "import pandas as pd\n",
    "import datetime as dt\n",
    "import urllib.request, json\n",
    "import os\n",
    "import numpy as np\n",
    "import tensorflow as tf # This code has been tested with TensorFlow 1.6\n",
    "from sklearn.preprocessing import MinMaxScaler"
   ]
  },
  {
   "cell_type": "code",
   "execution_count": 329,
   "metadata": {},
   "outputs": [
    {
     "name": "stdout",
     "output_type": "stream",
     "text": [
      "File already exists. Loading data from CSV\n"
     ]
    }
   ],
   "source": [
    "#api_key = 'UQ19NZBEHHCEHIOR'\n",
    "\n",
    "api_key = 'UQ19NZBEHHCEHIOR'\n",
    "\n",
    "    # American Airlines stock market prices\n",
    "ticker = \"AAL\"\n",
    "\n",
    "    # JSON file with all the stock market data for AAL from the last 20 years\n",
    "url_string = \"https://www.alphavantage.co/query?function=TIME_SERIES_DAILY&symbol=%s&outputsize=full&apikey=%s\"%(ticker,api_key)\n",
    "\n",
    "    # Save data to this file\n",
    "file_to_save = 'stock_market_data-%s.csv'%ticker\n",
    "\n",
    "    # If you haven't already saved data,\n",
    "    # Go ahead and grab the data from the url\n",
    "    # And store date, low, high, volume, close, open values to a Pandas DataFrame\n",
    "if not os.path.exists(file_to_save):\n",
    "        with urllib.request.urlopen(url_string) as url:\n",
    "            data = json.loads(url.read().decode())\n",
    "            # extract stock market data\n",
    "            data = data['Time Series (Daily)']\n",
    "            df = pd.DataFrame(columns=['Date','Low','High','Close','Open'])\n",
    "            for k,v in data.items():\n",
    "                date = dt.datetime.strptime(k, '%Y-%m-%d')\n",
    "                data_row = [date.date(),float(v['3. low']),float(v['2. high']),\n",
    "                            float(v['4. close']),float(v['1. open'])]\n",
    "                df.loc[-1,:] = data_row\n",
    "                df.index = df.index + 1\n",
    "        print('Data saved to : %s'%file_to_save)        \n",
    "        df.to_csv(file_to_save)\n",
    "\n",
    "    # If the data is already there, just load it from the CSV\n",
    "else:\n",
    "        print('File already exists. Loading data from CSV')\n",
    "        df = pd.read_csv(file_to_save)"
   ]
  },
  {
   "cell_type": "code",
   "execution_count": 330,
   "metadata": {},
   "outputs": [
    {
     "data": {
      "text/html": [
       "<div>\n",
       "<style>\n",
       "    .dataframe thead tr:only-child th {\n",
       "        text-align: right;\n",
       "    }\n",
       "\n",
       "    .dataframe thead th {\n",
       "        text-align: left;\n",
       "    }\n",
       "\n",
       "    .dataframe tbody tr th {\n",
       "        vertical-align: top;\n",
       "    }\n",
       "</style>\n",
       "<table border=\"1\" class=\"dataframe\">\n",
       "  <thead>\n",
       "    <tr style=\"text-align: right;\">\n",
       "      <th></th>\n",
       "      <th>Unnamed: 0</th>\n",
       "      <th>Low</th>\n",
       "      <th>High</th>\n",
       "      <th>Close</th>\n",
       "      <th>Open</th>\n",
       "    </tr>\n",
       "    <tr>\n",
       "      <th>Date</th>\n",
       "      <th></th>\n",
       "      <th></th>\n",
       "      <th></th>\n",
       "      <th></th>\n",
       "      <th></th>\n",
       "    </tr>\n",
       "  </thead>\n",
       "  <tbody>\n",
       "    <tr>\n",
       "      <th>2018-12-28</th>\n",
       "      <td>3336</td>\n",
       "      <td>31.510</td>\n",
       "      <td>32.60</td>\n",
       "      <td>31.83</td>\n",
       "      <td>32.17</td>\n",
       "    </tr>\n",
       "    <tr>\n",
       "      <th>2018-12-27</th>\n",
       "      <td>3335</td>\n",
       "      <td>30.865</td>\n",
       "      <td>32.05</td>\n",
       "      <td>32.04</td>\n",
       "      <td>31.71</td>\n",
       "    </tr>\n",
       "    <tr>\n",
       "      <th>2018-12-26</th>\n",
       "      <td>3334</td>\n",
       "      <td>29.590</td>\n",
       "      <td>32.33</td>\n",
       "      <td>32.29</td>\n",
       "      <td>30.12</td>\n",
       "    </tr>\n",
       "    <tr>\n",
       "      <th>2018-12-24</th>\n",
       "      <td>3333</td>\n",
       "      <td>29.670</td>\n",
       "      <td>30.92</td>\n",
       "      <td>29.72</td>\n",
       "      <td>30.51</td>\n",
       "    </tr>\n",
       "    <tr>\n",
       "      <th>2018-12-21</th>\n",
       "      <td>3332</td>\n",
       "      <td>30.650</td>\n",
       "      <td>32.65</td>\n",
       "      <td>30.78</td>\n",
       "      <td>31.95</td>\n",
       "    </tr>\n",
       "  </tbody>\n",
       "</table>\n",
       "</div>"
      ],
      "text/plain": [
       "            Unnamed: 0     Low   High  Close   Open\n",
       "Date                                               \n",
       "2018-12-28        3336  31.510  32.60  31.83  32.17\n",
       "2018-12-27        3335  30.865  32.05  32.04  31.71\n",
       "2018-12-26        3334  29.590  32.33  32.29  30.12\n",
       "2018-12-24        3333  29.670  30.92  29.72  30.51\n",
       "2018-12-21        3332  30.650  32.65  30.78  31.95"
      ]
     },
     "execution_count": 330,
     "metadata": {},
     "output_type": "execute_result"
    }
   ],
   "source": [
    "df['Date'] = pd.to_datetime(df[\"Date\"])\n",
    "df_indx = df.set_index([\"Date\"], drop=True)\n",
    "df_indx.head(5)"
   ]
  },
  {
   "cell_type": "code",
   "execution_count": 331,
   "metadata": {},
   "outputs": [
    {
     "data": {
      "text/html": [
       "<div>\n",
       "<style>\n",
       "    .dataframe thead tr:only-child th {\n",
       "        text-align: right;\n",
       "    }\n",
       "\n",
       "    .dataframe thead th {\n",
       "        text-align: left;\n",
       "    }\n",
       "\n",
       "    .dataframe tbody tr th {\n",
       "        vertical-align: top;\n",
       "    }\n",
       "</style>\n",
       "<table border=\"1\" class=\"dataframe\">\n",
       "  <thead>\n",
       "    <tr style=\"text-align: right;\">\n",
       "      <th></th>\n",
       "      <th>Close</th>\n",
       "      <th>High</th>\n",
       "      <th>Low</th>\n",
       "      <th>Open</th>\n",
       "      <th>Unnamed: 0</th>\n",
       "    </tr>\n",
       "    <tr>\n",
       "      <th>Date</th>\n",
       "      <th></th>\n",
       "      <th></th>\n",
       "      <th></th>\n",
       "      <th></th>\n",
       "      <th></th>\n",
       "    </tr>\n",
       "  </thead>\n",
       "  <tbody>\n",
       "    <tr>\n",
       "      <th>2005-09-27</th>\n",
       "      <td>19.30</td>\n",
       "      <td>21.40</td>\n",
       "      <td>19.10</td>\n",
       "      <td>21.05</td>\n",
       "      <td>0</td>\n",
       "    </tr>\n",
       "    <tr>\n",
       "      <th>2005-09-28</th>\n",
       "      <td>20.50</td>\n",
       "      <td>20.53</td>\n",
       "      <td>19.20</td>\n",
       "      <td>19.30</td>\n",
       "      <td>1</td>\n",
       "    </tr>\n",
       "    <tr>\n",
       "      <th>2005-09-29</th>\n",
       "      <td>20.21</td>\n",
       "      <td>20.58</td>\n",
       "      <td>20.10</td>\n",
       "      <td>20.40</td>\n",
       "      <td>2</td>\n",
       "    </tr>\n",
       "    <tr>\n",
       "      <th>2005-09-30</th>\n",
       "      <td>21.01</td>\n",
       "      <td>21.05</td>\n",
       "      <td>20.18</td>\n",
       "      <td>20.26</td>\n",
       "      <td>3</td>\n",
       "    </tr>\n",
       "    <tr>\n",
       "      <th>2005-10-03</th>\n",
       "      <td>21.50</td>\n",
       "      <td>21.75</td>\n",
       "      <td>20.90</td>\n",
       "      <td>20.90</td>\n",
       "      <td>4</td>\n",
       "    </tr>\n",
       "  </tbody>\n",
       "</table>\n",
       "</div>"
      ],
      "text/plain": [
       "            Close   High    Low   Open  Unnamed: 0\n",
       "Date                                              \n",
       "2005-09-27  19.30  21.40  19.10  21.05           0\n",
       "2005-09-28  20.50  20.53  19.20  19.30           1\n",
       "2005-09-29  20.21  20.58  20.10  20.40           2\n",
       "2005-09-30  21.01  21.05  20.18  20.26           3\n",
       "2005-10-03  21.50  21.75  20.90  20.90           4"
      ]
     },
     "execution_count": 331,
     "metadata": {},
     "output_type": "execute_result"
    }
   ],
   "source": [
    "df_indx = df_indx.sort_index(axis=1, ascending=True)\n",
    "df_indx = df_indx.iloc[::-1]\n",
    "df_indx.head(5)"
   ]
  },
  {
   "cell_type": "code",
   "execution_count": 332,
   "metadata": {},
   "outputs": [
    {
     "data": {
      "text/html": [
       "<div>\n",
       "<style>\n",
       "    .dataframe thead tr:only-child th {\n",
       "        text-align: right;\n",
       "    }\n",
       "\n",
       "    .dataframe thead th {\n",
       "        text-align: left;\n",
       "    }\n",
       "\n",
       "    .dataframe tbody tr th {\n",
       "        vertical-align: top;\n",
       "    }\n",
       "</style>\n",
       "<table border=\"1\" class=\"dataframe\">\n",
       "  <thead>\n",
       "    <tr style=\"text-align: right;\">\n",
       "      <th></th>\n",
       "      <th>Close</th>\n",
       "      <th>High</th>\n",
       "      <th>Low</th>\n",
       "      <th>Open</th>\n",
       "      <th>Unnamed: 0</th>\n",
       "      <th>mid_prices</th>\n",
       "    </tr>\n",
       "    <tr>\n",
       "      <th>Date</th>\n",
       "      <th></th>\n",
       "      <th></th>\n",
       "      <th></th>\n",
       "      <th></th>\n",
       "      <th></th>\n",
       "      <th></th>\n",
       "    </tr>\n",
       "  </thead>\n",
       "  <tbody>\n",
       "    <tr>\n",
       "      <th>2005-09-27</th>\n",
       "      <td>19.30</td>\n",
       "      <td>21.40</td>\n",
       "      <td>19.10</td>\n",
       "      <td>21.05</td>\n",
       "      <td>0</td>\n",
       "      <td>20.250</td>\n",
       "    </tr>\n",
       "    <tr>\n",
       "      <th>2005-09-28</th>\n",
       "      <td>20.50</td>\n",
       "      <td>20.53</td>\n",
       "      <td>19.20</td>\n",
       "      <td>19.30</td>\n",
       "      <td>1</td>\n",
       "      <td>19.865</td>\n",
       "    </tr>\n",
       "    <tr>\n",
       "      <th>2005-09-29</th>\n",
       "      <td>20.21</td>\n",
       "      <td>20.58</td>\n",
       "      <td>20.10</td>\n",
       "      <td>20.40</td>\n",
       "      <td>2</td>\n",
       "      <td>20.340</td>\n",
       "    </tr>\n",
       "    <tr>\n",
       "      <th>2005-09-30</th>\n",
       "      <td>21.01</td>\n",
       "      <td>21.05</td>\n",
       "      <td>20.18</td>\n",
       "      <td>20.26</td>\n",
       "      <td>3</td>\n",
       "      <td>20.615</td>\n",
       "    </tr>\n",
       "    <tr>\n",
       "      <th>2005-10-03</th>\n",
       "      <td>21.50</td>\n",
       "      <td>21.75</td>\n",
       "      <td>20.90</td>\n",
       "      <td>20.90</td>\n",
       "      <td>4</td>\n",
       "      <td>21.325</td>\n",
       "    </tr>\n",
       "  </tbody>\n",
       "</table>\n",
       "</div>"
      ],
      "text/plain": [
       "            Close   High    Low   Open  Unnamed: 0  mid_prices\n",
       "Date                                                          \n",
       "2005-09-27  19.30  21.40  19.10  21.05           0      20.250\n",
       "2005-09-28  20.50  20.53  19.20  19.30           1      19.865\n",
       "2005-09-29  20.21  20.58  20.10  20.40           2      20.340\n",
       "2005-09-30  21.01  21.05  20.18  20.26           3      20.615\n",
       "2005-10-03  21.50  21.75  20.90  20.90           4      21.325"
      ]
     },
     "execution_count": 332,
     "metadata": {},
     "output_type": "execute_result"
    }
   ],
   "source": [
    "# First calculate the mid prices from the highest and lowest\n",
    "mid_prices = (df_indx['Low']+df_indx['High'])/2\n",
    "df_indx['mid_prices'] = mid_prices\n",
    "df_indx.head()"
   ]
  },
  {
   "cell_type": "code",
   "execution_count": 333,
   "metadata": {},
   "outputs": [
    {
     "data": {
      "text/plain": [
       "<matplotlib.axes._subplots.AxesSubplot at 0x7f9795143dd8>"
      ]
     },
     "execution_count": 333,
     "metadata": {},
     "output_type": "execute_result"
    },
    {
     "data": {
      "image/png": "[encoded data removed]",
      "text/plain": [
       "<matplotlib.figure.Figure at 0x7f9795143be0>"
      ]
     },
     "metadata": {
      "needs_background": "light"
     },
     "output_type": "display_data"
    }
   ],
   "source": [
    "data = df_indx[['Close']]\n",
    "data.plot(y='Close')"
   ]
  },
  {
   "cell_type": "code",
   "execution_count": 334,
   "metadata": {},
   "outputs": [
    {
     "name": "stdout",
     "output_type": "stream",
     "text": [
      "Total data: 13 years\n",
      "80 percent data = 2005 to 2016\n"
     ]
    }
   ],
   "source": [
    "diff = data.index.values[3336] - data.index.values[0]\n",
    "days = diff.astype('timedelta64[D]')\n",
    "days = days / np.timedelta64(1, 'D')\n",
    "years = int(days/365)\n",
    "print(\"Total data: %d years\"%years)\n",
    "print(\"80 percent data = 2005 to %d\"%(2005 + int(0.9*years)))"
   ]
  },
  {
   "cell_type": "code",
   "execution_count": 336,
   "metadata": {},
   "outputs": [
    {
     "data": {
      "image/png": "[encoded data removed]",
      "text/plain": [
       "<matplotlib.figure.Figure at 0x7f9796ee7588>"
      ]
     },
     "metadata": {
      "needs_background": "light"
     },
     "output_type": "display_data"
    }
   ],
   "source": [
    "split_date = pd.Timestamp('01-01-2016')\n",
    "\n",
    "train = data.loc[:split_date]\n",
    "test = data.loc[split_date:]\n",
    "\n",
    "ax = train.plot(figsize=(10,12))\n",
    "test.plot(ax=ax)\n",
    "plt.legend(['train', 'test'])\n",
    "plt.xlabel('Date')\n",
    "plt.ylabel('Median Price')\n",
    "plt.show()"
   ]
  },
  {
   "cell_type": "code",
   "execution_count": 337,
   "metadata": {},
   "outputs": [],
   "source": [
    "from sklearn.preprocessing import MinMaxScaler\n",
    "sc = MinMaxScaler()\n",
    "train_sc = sc.fit_transform(train)\n",
    "test_sc = sc.transform(test)\n",
    "#train_sc = train.reshape(-1,1)\n",
    "#test_sc = test.reshape(-1,1)"
   ]
  },
  {
   "cell_type": "code",
   "execution_count": 338,
   "metadata": {},
   "outputs": [],
   "source": [
    "train_sc_df = pd.DataFrame(train_sc, columns=['Y'], index=train.index)\n",
    "test_sc_df = pd.DataFrame(test_sc, columns=['Y'], index=test.index)\n",
    "\n",
    "for s in range(1,2):\n",
    "    train_sc_df['X_{}'.format(s)] = train_sc_df['Y'].shift(s)\n",
    "    test_sc_df['X_{}'.format(s)] = test_sc_df['Y'].shift(s)\n",
    "\n",
    "X_train = train_sc_df.dropna().drop('Y', axis=1)\n",
    "y_train = train_sc_df.dropna().drop('X_1', axis=1)\n",
    "\n",
    "X_test = test_sc_df.dropna().drop('Y', axis=1)\n",
    "y_test = test_sc_df.dropna().drop('X_1', axis=1)\n",
    "\n",
    "X_train = X_train.as_matrix()\n",
    "y_train = y_train.as_matrix()\n",
    "\n",
    "X_test = X_test.as_matrix()\n",
    "y_test = y_test.as_matrix()"
   ]
  },
  {
   "cell_type": "code",
   "execution_count": 339,
   "metadata": {},
   "outputs": [
    {
     "name": "stdout",
     "output_type": "stream",
     "text": [
      "Train size: (2583 x 1)\n",
      "Test size: (752 x 1)\n"
     ]
    }
   ],
   "source": [
    "print('Train size: (%d x %d)'%(X_train.shape[0], X_train.shape[1]))\n",
    "print('Test size: (%d x %d)'%(X_test.shape[0], X_test.shape[1]))"
   ]
  },
  {
   "cell_type": "code",
   "execution_count": 340,
   "metadata": {},
   "outputs": [],
   "source": [
    "from sklearn.svm import SVR\n",
    "regressor = SVR(kernel='rbf')"
   ]
  },
  {
   "cell_type": "code",
   "execution_count": 341,
   "metadata": {},
   "outputs": [
    {
     "name": "stderr",
     "output_type": "stream",
     "text": [
      "/opt/conda/lib/python3.6/site-packages/sklearn/utils/validation.py:578: DataConversionWarning: A column-vector y was passed when a 1d array was expected. Please change the shape of y to (n_samples, ), for example using ravel().\n",
      "  y = column_or_1d(y, warn=True)\n"
     ]
    }
   ],
   "source": [
    "regressor.fit(X_train, y_train)\n",
    "y_pred = regressor.predict(X_test)"
   ]
  },
  {
   "cell_type": "code",
   "execution_count": 342,
   "metadata": {},
   "outputs": [
    {
     "data": {
      "text/plain": [
       "[<matplotlib.lines.Line2D at 0x7f9794d20be0>]"
      ]
     },
     "execution_count": 342,
     "metadata": {},
     "output_type": "execute_result"
    },
    {
     "data": {
      "image/png": "[encoded data removed]",
      "text/plain": [
       "<matplotlib.figure.Figure at 0x7f97966260b8>"
      ]
     },
     "metadata": {
      "needs_background": "light"
     },
     "output_type": "display_data"
    }
   ],
   "source": [
    "plt.plot(y_test)\n",
    "plt.plot(y_pred)"
   ]
  },
  {
   "cell_type": "code",
   "execution_count": 343,
   "metadata": {},
   "outputs": [
    {
     "name": "stdout",
     "output_type": "stream",
     "text": [
      "R-squared is: 0.920889\n",
      "rms error is: 0.14732569271\n"
     ]
    }
   ],
   "source": [
    "from sklearn.metrics import r2_score\n",
    "\n",
    "def adj_r2_score(r2, n, k):\n",
    "    return 1-((1-r2)*((n-1)/(n-k-1)))\n",
    "\n",
    "r2_test = r2_score(y_test, y_pred)\n",
    "print(\"R-squared is: %f\"%r2_test)\n",
    "\n",
    "def rmse(predictions, targets):\n",
    "    return np.sqrt(((predictions - targets) ** 2).mean())\n",
    "\n",
    "rmse_val = rmse(y_pred, y_test)\n",
    "print(\"rms error is: \" + str(rmse_val))"
   ]
  },
  {
   "cell_type": "code",
   "execution_count": 344,
   "metadata": {},
   "outputs": [],
   "source": [
    "from sklearn.linear_model import LinearRegression\n",
    "linearregression = LinearRegression()"
   ]
  },
  {
   "cell_type": "code",
   "execution_count": 345,
   "metadata": {},
   "outputs": [],
   "source": [
    "linearregression.fit(X_train, y_train)\n",
    "y_pred = linearregression.predict(X_test)"
   ]
  },
  {
   "cell_type": "code",
   "execution_count": 346,
   "metadata": {},
   "outputs": [
    {
     "data": {
      "image/png": "[encoded data removed]",
      "text/plain": [
       "<matplotlib.figure.Figure at 0x7f9796d92be0>"
      ]
     },
     "metadata": {
      "needs_background": "light"
     },
     "output_type": "display_data"
    }
   ],
   "source": [
    "plt.plot(y_test)\n",
    "plt.plot(y_pred)\n",
    "plt.xlabel('Observation')\n",
    "plt.ylabel('Close_Scaled')\n",
    "plt.legend()\n",
    "plt.show()"
   ]
  },
  {
   "cell_type": "code",
   "execution_count": 347,
   "metadata": {},
   "outputs": [
    {
     "name": "stdout",
     "output_type": "stream",
     "text": [
      "R-squared is: 0.981220\n",
      "rms error is: 0.0149051040709\n"
     ]
    }
   ],
   "source": [
    "from sklearn.metrics import r2_score\n",
    "\n",
    "def adj_r2_score(r2, n, k):\n",
    "    return 1-((1-r2)*((n-1)/(n-k-1)))\n",
    "\n",
    "r2_test = r2_score(y_test, y_pred)\n",
    "print(\"R-squared is: %f\"%r2_test)\n",
    "\n",
    "def rmse(predictions, targets):\n",
    "    return np.sqrt(((predictions - targets) ** 2).mean())\n",
    "\n",
    "rmse_val = rmse(y_pred, y_test)\n",
    "print(\"rms error is: \" + str(rmse_val))"
   ]
  },
  {
   "cell_type": "code",
   "execution_count": 348,
   "metadata": {},
   "outputs": [],
   "source": [
    "X_train = train_sc[:-1]\n",
    "y_train = train_sc[1:]\n",
    "\n",
    "X_test = test_sc[:-1]\n",
    "y_test = test_sc[1:]"
   ]
  },
  {
   "cell_type": "code",
   "execution_count": 349,
   "metadata": {},
   "outputs": [],
   "source": [
    "import keras\n",
    "from keras.models import Sequential\n",
    "from keras.layers import Dense\n",
    "import keras.backend as K\n",
    "from keras.callbacks import EarlyStopping\n",
    "from keras.optimizers import Adam\n",
    "from keras.models import load_model"
   ]
  },
  {
   "cell_type": "code",
   "execution_count": 350,
   "metadata": {},
   "outputs": [],
   "source": [
    "K.clear_session()\n",
    "\n",
    "model = Sequential()\n",
    "model.add(Dense(12, input_dim=1, activation='relu'))\n",
    "model.add(Dense(1))\n",
    "model.compile(loss='mean_squared_error', optimizer='adam')\n",
    "early_stop = EarlyStopping(monitor='loss', patience=2, verbose=1)"
   ]
  },
  {
   "cell_type": "code",
   "execution_count": 351,
   "metadata": {},
   "outputs": [
    {
     "name": "stdout",
     "output_type": "stream",
     "text": [
      "_________________________________________________________________\n",
      "Layer (type)                 Output Shape              Param #   \n",
      "=================================================================\n",
      "dense_1 (Dense)              (None, 12)                24        \n",
      "_________________________________________________________________\n",
      "dense_2 (Dense)              (None, 1)                 13        \n",
      "=================================================================\n",
      "Total params: 37\n",
      "Trainable params: 37\n",
      "Non-trainable params: 0\n",
      "_________________________________________________________________\n"
     ]
    }
   ],
   "source": [
    "model.summary()"
   ]
  },
  {
   "cell_type": "code",
   "execution_count": 352,
   "metadata": {},
   "outputs": [
    {
     "name": "stdout",
     "output_type": "stream",
     "text": [
      "Epoch 1/200\n",
      "2583/2583 [==============================] - 3s 995us/step - loss: 0.0044\n",
      "Epoch 2/200\n",
      "2583/2583 [==============================] - 2s 946us/step - loss: 4.6925e-04\n",
      "Epoch 3/200\n",
      "2583/2583 [==============================] - 2s 947us/step - loss: 3.6439e-04\n",
      "Epoch 4/200\n",
      "2583/2583 [==============================] - 3s 981us/step - loss: 3.2992e-04\n",
      "Epoch 5/200\n",
      "2583/2583 [==============================] - 2s 931us/step - loss: 3.1058e-04\n",
      "Epoch 6/200\n",
      "2583/2583 [==============================] - 2s 931us/step - loss: 2.9858e-04\n",
      "Epoch 7/200\n",
      "2583/2583 [==============================] - 2s 925us/step - loss: 2.9008e-04\n",
      "Epoch 8/200\n",
      "2583/2583 [==============================] - 2s 951us/step - loss: 2.8373e-04\n",
      "Epoch 9/200\n",
      "2583/2583 [==============================] - 2s 939us/step - loss: 2.7988e-04\n",
      "Epoch 10/200\n",
      "2583/2583 [==============================] - 2s 929us/step - loss: 2.7724e-04\n",
      "Epoch 11/200\n",
      "2583/2583 [==============================] - 2s 925us/step - loss: 2.7444e-04\n",
      "Epoch 12/200\n",
      "2583/2583 [==============================] - 2s 919us/step - loss: 2.7210e-04\n",
      "Epoch 13/200\n",
      "2583/2583 [==============================] - 2s 923us/step - loss: 2.7025e-04\n",
      "Epoch 14/200\n",
      "2583/2583 [==============================] - 2s 929us/step - loss: 2.6895e-04\n",
      "Epoch 15/200\n",
      "2583/2583 [==============================] - 2s 930us/step - loss: 2.6758e-04\n",
      "Epoch 16/200\n",
      "2583/2583 [==============================] - 2s 941us/step - loss: 2.6640e-04\n",
      "Epoch 17/200\n",
      "2583/2583 [==============================] - 2s 929us/step - loss: 2.6538e-04\n",
      "Epoch 18/200\n",
      "2583/2583 [==============================] - 2s 945us/step - loss: 2.6404e-04\n",
      "Epoch 19/200\n",
      "2583/2583 [==============================] - 2s 931us/step - loss: 2.6280e-04\n",
      "Epoch 20/200\n",
      "2583/2583 [==============================] - 2s 923us/step - loss: 2.6125e-04\n",
      "Epoch 21/200\n",
      "2583/2583 [==============================] - 2s 914us/step - loss: 2.5802e-04\n",
      "Epoch 22/200\n",
      "2583/2583 [==============================] - 2s 927us/step - loss: 2.5562e-04\n",
      "Epoch 23/200\n",
      "2583/2583 [==============================] - 2s 926us/step - loss: 2.5388e-04\n",
      "Epoch 24/200\n",
      "2583/2583 [==============================] - 2s 926us/step - loss: 2.5265e-04\n",
      "Epoch 25/200\n",
      "2583/2583 [==============================] - 2s 943us/step - loss: 2.5175e-04\n",
      "Epoch 26/200\n",
      "2583/2583 [==============================] - 2s 951us/step - loss: 2.5108e-04\n",
      "Epoch 27/200\n",
      "2583/2583 [==============================] - 2s 942us/step - loss: 2.5053e-04 0s - loss: 2.4803e\n",
      "Epoch 28/200\n",
      "2583/2583 [==============================] - 2s 941us/step - loss: 2.5007e-04\n",
      "Epoch 29/200\n",
      "2583/2583 [==============================] - 2s 944us/step - loss: 2.4966e-04\n",
      "Epoch 30/200\n",
      "2583/2583 [==============================] - 2s 931us/step - loss: 2.4931e-04\n",
      "Epoch 31/200\n",
      "2583/2583 [==============================] - 2s 911us/step - loss: 2.4900e-04\n",
      "Epoch 32/200\n",
      "2583/2583 [==============================] - 2s 907us/step - loss: 2.4872e-04\n",
      "Epoch 33/200\n",
      "2583/2583 [==============================] - 2s 909us/step - loss: 2.4846e-04\n",
      "Epoch 34/200\n",
      "2583/2583 [==============================] - 2s 913us/step - loss: 2.4821e-04\n",
      "Epoch 35/200\n",
      "2583/2583 [==============================] - 2s 912us/step - loss: 2.4797e-04\n",
      "Epoch 36/200\n",
      "2583/2583 [==============================] - 2s 946us/step - loss: 2.4774e-04\n",
      "Epoch 37/200\n",
      "2583/2583 [==============================] - 2s 919us/step - loss: 2.4752e-04\n",
      "Epoch 38/200\n",
      "2583/2583 [==============================] - 2s 932us/step - loss: 2.4731e-04\n",
      "Epoch 39/200\n",
      "2583/2583 [==============================] - 2s 941us/step - loss: 2.4712e-04\n",
      "Epoch 40/200\n",
      "2583/2583 [==============================] - 2s 926us/step - loss: 2.4688e-04\n",
      "Epoch 41/200\n",
      "2583/2583 [==============================] - 2s 933us/step - loss: 2.4665e-04\n",
      "Epoch 42/200\n",
      "2583/2583 [==============================] - 2s 953us/step - loss: 2.4644e-04\n",
      "Epoch 43/200\n",
      "2583/2583 [==============================] - 2s 924us/step - loss: 2.4623e-04\n",
      "Epoch 44/200\n",
      "2583/2583 [==============================] - 2s 933us/step - loss: 2.4604e-04\n",
      "Epoch 45/200\n",
      "2583/2583 [==============================] - 2s 941us/step - loss: 2.4584e-04\n",
      "Epoch 46/200\n",
      "2583/2583 [==============================] - 2s 937us/step - loss: 2.4565e-04\n",
      "Epoch 47/200\n",
      "2583/2583 [==============================] - 2s 936us/step - loss: 2.4546e-04\n",
      "Epoch 48/200\n",
      "2583/2583 [==============================] - 2s 947us/step - loss: 2.4524e-04\n",
      "Epoch 49/200\n",
      "2583/2583 [==============================] - 2s 909us/step - loss: 2.4507e-04\n",
      "Epoch 50/200\n",
      "2583/2583 [==============================] - 2s 914us/step - loss: 2.4486e-04\n",
      "Epoch 51/200\n",
      "2583/2583 [==============================] - 2s 913us/step - loss: 2.4472e-04\n",
      "Epoch 52/200\n",
      "2583/2583 [==============================] - 2s 942us/step - loss: 2.4447e-04\n",
      "Epoch 53/200\n",
      "2583/2583 [==============================] - 2s 956us/step - loss: 2.4435e-04\n",
      "Epoch 54/200\n",
      "2583/2583 [==============================] - 2s 959us/step - loss: 2.4411e-04\n",
      "Epoch 55/200\n",
      "2583/2583 [==============================] - 2s 930us/step - loss: 2.4391e-04\n",
      "Epoch 56/200\n",
      "2583/2583 [==============================] - 2s 927us/step - loss: 2.4383e-04\n",
      "Epoch 57/200\n",
      "2583/2583 [==============================] - 2s 915us/step - loss: 2.4361e-04\n",
      "Epoch 58/200\n",
      "2583/2583 [==============================] - 2s 927us/step - loss: 2.4343e-04 1s - los - ETA: 0\n",
      "Epoch 59/200\n",
      "2583/2583 [==============================] - 2s 924us/step - loss: 2.4324e-04\n",
      "Epoch 60/200\n",
      "2583/2583 [==============================] - 2s 929us/step - loss: 2.4307e-04\n",
      "Epoch 61/200\n",
      "2583/2583 [==============================] - 2s 934us/step - loss: 2.4285e-04\n",
      "Epoch 62/200\n",
      "2583/2583 [==============================] - 2s 939us/step - loss: 2.4270e-04\n",
      "Epoch 63/200\n",
      "2583/2583 [==============================] - 2s 934us/step - loss: 2.4253e-04\n",
      "Epoch 64/200\n",
      "2583/2583 [==============================] - 2s 931us/step - loss: 2.4240e-04\n",
      "Epoch 65/200\n",
      "2583/2583 [==============================] - 2s 924us/step - loss: 2.4224e-04\n",
      "Epoch 66/200\n",
      "2583/2583 [==============================] - 2s 909us/step - loss: 2.4207e-04\n",
      "Epoch 67/200\n",
      "2583/2583 [==============================] - 2s 910us/step - loss: 2.4191e-04\n",
      "Epoch 68/200\n",
      "2583/2583 [==============================] - 2s 928us/step - loss: 2.4176e-04\n",
      "Epoch 69/200\n",
      "2583/2583 [==============================] - 2s 925us/step - loss: 2.4161e-04\n",
      "Epoch 70/200\n",
      "2583/2583 [==============================] - 2s 922us/step - loss: 2.4148e-04\n",
      "Epoch 71/200\n",
      "2583/2583 [==============================] - 2s 924us/step - loss: 2.4130e-04\n",
      "Epoch 72/200\n",
      "2583/2583 [==============================] - 2s 925us/step - loss: 2.4116e-04\n",
      "Epoch 73/200\n",
      "2583/2583 [==============================] - 2s 936us/step - loss: 2.4103e-04\n",
      "Epoch 74/200\n",
      "2583/2583 [==============================] - 2s 929us/step - loss: 2.4088e-04\n",
      "Epoch 75/200\n",
      "2583/2583 [==============================] - 2s 959us/step - loss: 2.4068e-04\n",
      "Epoch 76/200\n",
      "2583/2583 [==============================] - 2s 914us/step - loss: 2.4052e-04\n",
      "Epoch 77/200\n",
      "2583/2583 [==============================] - 2s 910us/step - loss: 2.4036e-04\n",
      "Epoch 78/200\n",
      "2583/2583 [==============================] - 2s 922us/step - loss: 2.4017e-04\n",
      "Epoch 79/200\n",
      "2583/2583 [==============================] - 2s 944us/step - loss: 2.4006e-04\n",
      "Epoch 80/200\n",
      "2583/2583 [==============================] - 2s 909us/step - loss: 2.3993e-04\n",
      "Epoch 81/200\n",
      "2583/2583 [==============================] - 2s 927us/step - loss: 2.3975e-04\n",
      "Epoch 82/200\n",
      "2583/2583 [==============================] - 2s 923us/step - loss: 2.3958e-04\n",
      "Epoch 83/200\n",
      "2583/2583 [==============================] - 2s 915us/step - loss: 2.3939e-04\n",
      "Epoch 84/200\n",
      "2583/2583 [==============================] - 2s 917us/step - loss: 2.3921e-04\n",
      "Epoch 85/200\n",
      "2583/2583 [==============================] - 2s 920us/step - loss: 2.3906e-04\n",
      "Epoch 86/200\n",
      "2583/2583 [==============================] - 2s 912us/step - loss: 2.3894e-04\n",
      "Epoch 87/200\n",
      "2583/2583 [==============================] - 2s 957us/step - loss: 2.3884e-04\n",
      "Epoch 88/200\n",
      "2583/2583 [==============================] - 2s 945us/step - loss: 2.3873e-04\n",
      "Epoch 89/200\n",
      "2583/2583 [==============================] - 2s 947us/step - loss: 2.3864e-04\n",
      "Epoch 90/200\n"
     ]
    },
    {
     "name": "stdout",
     "output_type": "stream",
     "text": [
      "2583/2583 [==============================] - 2s 948us/step - loss: 2.3842e-04\n",
      "Epoch 91/200\n",
      "2583/2583 [==============================] - 2s 950us/step - loss: 2.3819e-04\n",
      "Epoch 92/200\n",
      "2583/2583 [==============================] - 2s 952us/step - loss: 2.3791e-04\n",
      "Epoch 93/200\n",
      "2583/2583 [==============================] - 2s 938us/step - loss: 2.3775e-04\n",
      "Epoch 94/200\n",
      "2583/2583 [==============================] - 2s 936us/step - loss: 2.3764e-04\n",
      "Epoch 95/200\n",
      "2583/2583 [==============================] - 2s 932us/step - loss: 2.3746e-04\n",
      "Epoch 96/200\n",
      "2583/2583 [==============================] - 2s 933us/step - loss: 2.3727e-04\n",
      "Epoch 97/200\n",
      "2583/2583 [==============================] - 2s 936us/step - loss: 2.3704e-04\n",
      "Epoch 98/200\n",
      "2583/2583 [==============================] - 2s 923us/step - loss: 2.3696e-04\n",
      "Epoch 99/200\n",
      "2583/2583 [==============================] - 2s 935us/step - loss: 2.3697e-04\n",
      "Epoch 100/200\n",
      "2583/2583 [==============================] - 2s 923us/step - loss: 2.3688e-04\n",
      "Epoch 101/200\n",
      "2583/2583 [==============================] - 2s 929us/step - loss: 2.3680e-04\n",
      "Epoch 102/200\n",
      "2583/2583 [==============================] - 2s 917us/step - loss: 2.3644e-04\n",
      "Epoch 103/200\n",
      "2583/2583 [==============================] - 2s 960us/step - loss: 2.3618e-04\n",
      "Epoch 104/200\n",
      "2583/2583 [==============================] - 2s 934us/step - loss: 2.3586e-04\n",
      "Epoch 105/200\n",
      "2583/2583 [==============================] - 2s 923us/step - loss: 2.3546e-04\n",
      "Epoch 106/200\n",
      "2583/2583 [==============================] - 2s 927us/step - loss: 2.3500e-04\n",
      "Epoch 107/200\n",
      "2583/2583 [==============================] - 2s 929us/step - loss: 2.3460e-04\n",
      "Epoch 108/200\n",
      "2583/2583 [==============================] - 2s 934us/step - loss: 2.3424e-04\n",
      "Epoch 109/200\n",
      "2583/2583 [==============================] - 2s 939us/step - loss: 2.3370e-04\n",
      "Epoch 110/200\n",
      "2583/2583 [==============================] - 2s 944us/step - loss: 2.3315e-04\n",
      "Epoch 111/200\n",
      "2583/2583 [==============================] - 2s 941us/step - loss: 2.3235e-04\n",
      "Epoch 112/200\n",
      "2583/2583 [==============================] - 2s 933us/step - loss: 2.3152e-04\n",
      "Epoch 113/200\n",
      "2583/2583 [==============================] - 2s 931us/step - loss: 2.2903e-04\n",
      "Epoch 114/200\n",
      "2583/2583 [==============================] - 2s 936us/step - loss: 2.2712e-04\n",
      "Epoch 115/200\n",
      "2583/2583 [==============================] - 2s 935us/step - loss: 2.2583e-04\n",
      "Epoch 116/200\n",
      "2583/2583 [==============================] - 2s 933us/step - loss: 2.2542e-04\n",
      "Epoch 117/200\n",
      "2583/2583 [==============================] - 3s 1ms/step - loss: 2.2433e-04\n",
      "Epoch 118/200\n",
      "2583/2583 [==============================] - 3s 1ms/step - loss: 2.2383e-04\n",
      "Epoch 119/200\n",
      "2583/2583 [==============================] - 2s 965us/step - loss: 2.2353e-04\n",
      "Epoch 120/200\n",
      "2583/2583 [==============================] - 3s 1ms/step - loss: 2.2329e-04\n",
      "Epoch 121/200\n",
      "2583/2583 [==============================] - 3s 1ms/step - loss: 2.2313e-04\n",
      "Epoch 122/200\n",
      "2583/2583 [==============================] - 3s 1ms/step - loss: 2.2300e-04\n",
      "Epoch 123/200\n",
      "2583/2583 [==============================] - 3s 983us/step - loss: 2.2290e-04\n",
      "Epoch 124/200\n",
      "2583/2583 [==============================] - 2s 933us/step - loss: 2.2283e-04\n",
      "Epoch 125/200\n",
      "2583/2583 [==============================] - 2s 935us/step - loss: 2.2277e-04\n",
      "Epoch 126/200\n",
      "2583/2583 [==============================] - 2s 935us/step - loss: 2.2271e-04\n",
      "Epoch 127/200\n",
      "2583/2583 [==============================] - 2s 927us/step - loss: 2.2267e-04\n",
      "Epoch 128/200\n",
      "2583/2583 [==============================] - 2s 924us/step - loss: 2.2263e-04\n",
      "Epoch 129/200\n",
      "2583/2583 [==============================] - 2s 930us/step - loss: 2.2259e-04\n",
      "Epoch 130/200\n",
      "2583/2583 [==============================] - 2s 924us/step - loss: 2.2255e-04\n",
      "Epoch 131/200\n",
      "2583/2583 [==============================] - 2s 922us/step - loss: 2.2252e-04\n",
      "Epoch 132/200\n",
      "2583/2583 [==============================] - 2s 940us/step - loss: 2.2249e-04\n",
      "Epoch 133/200\n",
      "2583/2583 [==============================] - 2s 929us/step - loss: 2.2246e-04\n",
      "Epoch 134/200\n",
      "2583/2583 [==============================] - 2s 930us/step - loss: 2.2243e-04\n",
      "Epoch 135/200\n",
      "2583/2583 [==============================] - 2s 931us/step - loss: 2.2240e-04\n",
      "Epoch 136/200\n",
      "2583/2583 [==============================] - 2s 919us/step - loss: 2.2237e-04\n",
      "Epoch 137/200\n",
      "2583/2583 [==============================] - 2s 936us/step - loss: 2.2234e-04\n",
      "Epoch 138/200\n",
      "2583/2583 [==============================] - 2s 935us/step - loss: 2.2231e-04\n",
      "Epoch 139/200\n",
      "2583/2583 [==============================] - 2s 947us/step - loss: 2.2229e-04\n",
      "Epoch 140/200\n",
      "2583/2583 [==============================] - 2s 922us/step - loss: 2.2226e-04\n",
      "Epoch 141/200\n",
      "2583/2583 [==============================] - 2s 923us/step - loss: 2.2223e-04\n",
      "Epoch 142/200\n",
      "2583/2583 [==============================] - 2s 914us/step - loss: 2.2221e-04\n",
      "Epoch 143/200\n",
      "2583/2583 [==============================] - 2s 925us/step - loss: 2.2218e-04\n",
      "Epoch 144/200\n",
      "2583/2583 [==============================] - 2s 926us/step - loss: 2.2215e-04\n",
      "Epoch 145/200\n",
      "2583/2583 [==============================] - 2s 926us/step - loss: 2.2213e-04\n",
      "Epoch 146/200\n",
      "2583/2583 [==============================] - 2s 936us/step - loss: 2.2210e-04\n",
      "Epoch 147/200\n",
      "2583/2583 [==============================] - 2s 936us/step - loss: 2.2207e-04\n",
      "Epoch 148/200\n",
      "2583/2583 [==============================] - 2s 932us/step - loss: 2.2205e-04\n",
      "Epoch 149/200\n",
      "2583/2583 [==============================] - 2s 940us/step - loss: 2.2202e-04\n",
      "Epoch 150/200\n",
      "2583/2583 [==============================] - 2s 941us/step - loss: 2.2200e-04\n",
      "Epoch 151/200\n",
      "2583/2583 [==============================] - 2s 948us/step - loss: 2.2197e-04\n",
      "Epoch 152/200\n",
      "2583/2583 [==============================] - 2s 944us/step - loss: 2.2195e-04\n",
      "Epoch 153/200\n",
      "2583/2583 [==============================] - 3s 989us/step - loss: 2.2192e-04\n",
      "Epoch 154/200\n",
      "2583/2583 [==============================] - 2s 966us/step - loss: 2.2190e-04\n",
      "Epoch 155/200\n",
      "2583/2583 [==============================] - 2s 947us/step - loss: 2.2187e-04\n",
      "Epoch 156/200\n",
      "2583/2583 [==============================] - 2s 943us/step - loss: 2.2185e-04\n",
      "Epoch 157/200\n",
      "2583/2583 [==============================] - 2s 955us/step - loss: 2.2183e-04\n",
      "Epoch 158/200\n",
      "2583/2583 [==============================] - 2s 913us/step - loss: 2.2180e-04\n",
      "Epoch 159/200\n",
      "2583/2583 [==============================] - 2s 925us/step - loss: 2.2178e-04\n",
      "Epoch 160/200\n",
      "2583/2583 [==============================] - 2s 938us/step - loss: 2.2176e-04\n",
      "Epoch 161/200\n",
      "2583/2583 [==============================] - 2s 933us/step - loss: 2.2173e-04\n",
      "Epoch 162/200\n",
      "2583/2583 [==============================] - 2s 919us/step - loss: 2.2171e-04\n",
      "Epoch 163/200\n",
      "2583/2583 [==============================] - 2s 928us/step - loss: 2.2169e-04\n",
      "Epoch 164/200\n",
      "2583/2583 [==============================] - 2s 919us/step - loss: 2.2166e-04\n",
      "Epoch 165/200\n",
      "2583/2583 [==============================] - 2s 932us/step - loss: 2.2164e-04\n",
      "Epoch 166/200\n",
      "2583/2583 [==============================] - 2s 938us/step - loss: 2.2162e-04\n",
      "Epoch 167/200\n",
      "2583/2583 [==============================] - 2s 925us/step - loss: 2.2160e-04\n",
      "Epoch 168/200\n",
      "2583/2583 [==============================] - 2s 927us/step - loss: 2.2158e-04\n",
      "Epoch 169/200\n",
      "2583/2583 [==============================] - 2s 937us/step - loss: 2.2155e-04\n",
      "Epoch 170/200\n",
      "2583/2583 [==============================] - 2s 922us/step - loss: 2.2153e-04\n",
      "Epoch 171/200\n",
      "2583/2583 [==============================] - 2s 911us/step - loss: 2.2151e-04\n",
      "Epoch 172/200\n",
      "2583/2583 [==============================] - 2s 924us/step - loss: 2.2149e-04\n",
      "Epoch 173/200\n",
      "2583/2583 [==============================] - 2s 930us/step - loss: 2.2147e-04\n",
      "Epoch 174/200\n",
      "2583/2583 [==============================] - 2s 925us/step - loss: 2.2145e-04\n",
      "Epoch 175/200\n",
      "2583/2583 [==============================] - 2s 936us/step - loss: 2.2143e-04\n",
      "Epoch 176/200\n",
      "2583/2583 [==============================] - 2s 923us/step - loss: 2.2141e-04\n",
      "Epoch 177/200\n",
      "2583/2583 [==============================] - 2s 911us/step - loss: 2.2139e-04\n",
      "Epoch 178/200\n",
      "2583/2583 [==============================] - 2s 910us/step - loss: 2.2137e-04\n",
      "Epoch 179/200\n"
     ]
    },
    {
     "name": "stdout",
     "output_type": "stream",
     "text": [
      "2583/2583 [==============================] - 2s 908us/step - loss: 2.2134e-04\n",
      "Epoch 180/200\n",
      "2583/2583 [==============================] - 2s 940us/step - loss: 2.2132e-04\n",
      "Epoch 181/200\n",
      "2583/2583 [==============================] - 2s 925us/step - loss: 2.2130e-04\n",
      "Epoch 182/200\n",
      "2583/2583 [==============================] - 2s 913us/step - loss: 2.2128e-04\n",
      "Epoch 183/200\n",
      "2583/2583 [==============================] - 2s 931us/step - loss: 2.2127e-04\n",
      "Epoch 184/200\n",
      "2583/2583 [==============================] - ETA: 0s - loss: 2.2141e-04- ETA: 0 - 2s 937us/step - loss: 2.2125e-04\n",
      "Epoch 185/200\n",
      "2583/2583 [==============================] - 2s 929us/step - loss: 2.2123e-04\n",
      "Epoch 186/200\n",
      "2583/2583 [==============================] - 2s 912us/step - loss: 2.2121e-04\n",
      "Epoch 187/200\n",
      "2583/2583 [==============================] - 2s 914us/step - loss: 2.2119e-04\n",
      "Epoch 188/200\n",
      "2583/2583 [==============================] - 2s 935us/step - loss: 2.2117e-04\n",
      "Epoch 189/200\n",
      "2583/2583 [==============================] - 2s 951us/step - loss: 2.2115e-04\n",
      "Epoch 190/200\n",
      "2583/2583 [==============================] - 2s 938us/step - loss: 2.2113e-04\n",
      "Epoch 191/200\n",
      "2583/2583 [==============================] - 2s 915us/step - loss: 2.2111e-04\n",
      "Epoch 192/200\n",
      "2583/2583 [==============================] - 2s 921us/step - loss: 2.2110e-04\n",
      "Epoch 193/200\n",
      "2583/2583 [==============================] - 2s 924us/step - loss: 2.2108e-04\n",
      "Epoch 194/200\n",
      "2583/2583 [==============================] - 2s 926us/step - loss: 2.2106e-04\n",
      "Epoch 195/200\n",
      "2583/2583 [==============================] - 2s 935us/step - loss: 2.2104e-04\n",
      "Epoch 196/200\n",
      "2583/2583 [==============================] - 2s 937us/step - loss: 2.2102e-04\n",
      "Epoch 197/200\n",
      "2583/2583 [==============================] - 2s 931us/step - loss: 2.2100e-04\n",
      "Epoch 198/200\n",
      "2583/2583 [==============================] - 2s 926us/step - loss: 2.2099e-04\n",
      "Epoch 199/200\n",
      "2583/2583 [==============================] - 2s 951us/step - loss: 2.2097e-04\n",
      "Epoch 200/200\n",
      "2583/2583 [==============================] - 2s 950us/step - loss: 2.2095e-04\n"
     ]
    }
   ],
   "source": [
    "history = model.fit(X_train, y_train, epochs=200, batch_size=1, verbose=1, callbacks=[early_stop], shuffle=False)"
   ]
  },
  {
   "cell_type": "code",
   "execution_count": 353,
   "metadata": {},
   "outputs": [
    {
     "name": "stdout",
     "output_type": "stream",
     "text": [
      "The R2 score on the Train set is:\t0.921\n",
      "The Adjusted R2 score on the Train set is:\t0.921\n",
      "\n",
      "The R2 score on the Test set is:\t0.954\n",
      "The Adjusted R2 score on the Test set is:\t0.954\n"
     ]
    }
   ],
   "source": [
    "y_pred_test_ann = model.predict(X_test)\n",
    "y_train_pred_ann = model.predict(X_train)\n",
    "print(\"The R2 score on the Train set is:\\t{:0.3f}\".format(r2_score(y_train, y_train_pred_ann)))\n",
    "r2_train = r2_score(y_train, y_train_pred_ann)\n",
    "print(\"The Adjusted R2 score on the Train set is:\\t{:0.3f}\\n\".format(adj_r2_score(r2_train, X_train.shape[0], X_train.shape[1])))\n",
    "print(\"The R2 score on the Test set is:\\t{:0.3f}\".format(r2_score(y_test, y_pred_test_ann)))\n",
    "r2_test = r2_score(y_test, y_pred_test_ann)\n",
    "print(\"The Adjusted R2 score on the Test set is:\\t{:0.3f}\".format(adj_r2_score(r2_test, X_test.shape[0], X_test.shape[1])))"
   ]
  },
  {
   "cell_type": "code",
   "execution_count": 354,
   "metadata": {},
   "outputs": [
    {
     "data": {
      "image/png": "[encoded data removed]",
      "text/plain": [
       "<matplotlib.figure.Figure at 0x7f9794f44ba8>"
      ]
     },
     "metadata": {
      "needs_background": "light"
     },
     "output_type": "display_data"
    }
   ],
   "source": [
    "plt.plot(y_test, label='True')\n",
    "plt.plot(y_pred_test_ann, label='ANN')\n",
    "plt.title(\"ANN's_Prediction\")\n",
    "plt.xlabel('Observation')\n",
    "plt.ylabel('Close_Scaled')\n",
    "plt.legend()\n",
    "plt.show()"
   ]
  },
  {
   "cell_type": "code",
   "execution_count": 355,
   "metadata": {},
   "outputs": [],
   "source": [
    "model.save('ANN_NonShift.h5')"
   ]
  },
  {
   "cell_type": "code",
   "execution_count": 356,
   "metadata": {},
   "outputs": [],
   "source": [
    "X_tr_t = X_train.reshape(X_train.shape[0], 1, X_train.shape[1])\n",
    "X_tst_t = X_test.reshape(X_test.shape[0], 1, X_test.shape[1])"
   ]
  },
  {
   "cell_type": "code",
   "execution_count": 357,
   "metadata": {},
   "outputs": [],
   "source": [
    "from keras.layers import LSTM\n",
    "K.clear_session()\n",
    "model_lstm = Sequential()\n",
    "model_lstm.add(LSTM(7, input_shape=(1, X_train.shape[1]), activation='relu', kernel_initializer='lecun_uniform', return_sequences=False))\n",
    "model_lstm.add(Dense(1))\n",
    "model_lstm.compile(loss='mean_squared_error', optimizer='adam')\n",
    "early_stop = EarlyStopping(monitor='loss', patience=5, verbose=1)"
   ]
  },
  {
   "cell_type": "code",
   "execution_count": 358,
   "metadata": {},
   "outputs": [
    {
     "name": "stdout",
     "output_type": "stream",
     "text": [
      "_________________________________________________________________\n",
      "Layer (type)                 Output Shape              Param #   \n",
      "=================================================================\n",
      "dense_1 (Dense)              (None, 12)                24        \n",
      "_________________________________________________________________\n",
      "dense_2 (Dense)              (None, 1)                 13        \n",
      "=================================================================\n",
      "Total params: 37\n",
      "Trainable params: 37\n",
      "Non-trainable params: 0\n",
      "_________________________________________________________________\n"
     ]
    }
   ],
   "source": [
    "model.summary()"
   ]
  },
  {
   "cell_type": "code",
   "execution_count": 434,
   "metadata": {},
   "outputs": [
    {
     "name": "stdout",
     "output_type": "stream",
     "text": [
      "Train on 2324 samples, validate on 259 samples\n",
      "Epoch 1/500\n",
      "2324/2324 [==============================] - 0s 69us/step - loss: 2.0982e-04 - val_loss: 3.1265e-04\n",
      "Epoch 2/500\n",
      "2324/2324 [==============================] - 0s 65us/step - loss: 2.0964e-04 - val_loss: 3.1273e-04\n",
      "Epoch 3/500\n",
      "2324/2324 [==============================] - 0s 60us/step - loss: 2.0931e-04 - val_loss: 3.1276e-04\n",
      "Epoch 4/500\n",
      "2324/2324 [==============================] - 0s 58us/step - loss: 2.0888e-04 - val_loss: 3.1274e-04\n",
      "Epoch 5/500\n",
      "2324/2324 [==============================] - 0s 56us/step - loss: 2.0837e-04 - val_loss: 3.1269e-04\n",
      "Epoch 6/500\n",
      "2324/2324 [==============================] - 0s 54us/step - loss: 2.0784e-04 - val_loss: 3.1261e-04\n",
      "Epoch 7/500\n",
      "2324/2324 [==============================] - 0s 57us/step - loss: 2.0731e-04 - val_loss: 3.1253e-04\n",
      "Epoch 8/500\n",
      "2324/2324 [==============================] - 0s 53us/step - loss: 2.0680e-04 - val_loss: 3.1244e-04\n",
      "Epoch 9/500\n",
      "2324/2324 [==============================] - 0s 56us/step - loss: 2.0634e-04 - val_loss: 3.1236e-04\n",
      "Epoch 10/500\n",
      "2324/2324 [==============================] - 0s 58us/step - loss: 2.0594e-04 - val_loss: 3.1228e-04\n",
      "Epoch 11/500\n",
      "2324/2324 [==============================] - 0s 56us/step - loss: 2.0561e-04 - val_loss: 3.1223e-04\n",
      "Epoch 12/500\n",
      "2324/2324 [==============================] - 0s 59us/step - loss: 2.0535e-04 - val_loss: 3.1219e-04\n",
      "Epoch 13/500\n",
      "2324/2324 [==============================] - 0s 60us/step - loss: 2.0517e-04 - val_loss: 3.1217e-04\n",
      "Epoch 14/500\n",
      "2324/2324 [==============================] - 0s 57us/step - loss: 2.0506e-04 - val_loss: 3.1216e-04\n",
      "Epoch 15/500\n",
      "2324/2324 [==============================] - 0s 56us/step - loss: 2.0501e-04 - val_loss: 3.1218e-04\n",
      "Epoch 16/500\n",
      "2324/2324 [==============================] - 0s 57us/step - loss: 2.0502e-04 - val_loss: 3.1222e-04\n",
      "Epoch 17/500\n",
      "2324/2324 [==============================] - 0s 58us/step - loss: 2.0508e-04 - val_loss: 3.1227e-04\n",
      "Epoch 18/500\n",
      "2324/2324 [==============================] - 0s 56us/step - loss: 2.0518e-04 - val_loss: 3.1233e-04\n",
      "Epoch 19/500\n",
      "2324/2324 [==============================] - 0s 58us/step - loss: 2.0531e-04 - val_loss: 3.1239e-04\n",
      "Epoch 20/500\n",
      "2324/2324 [==============================] - 0s 58us/step - loss: 2.0546e-04 - val_loss: 3.1247e-04\n",
      "Epoch 00020: early stopping\n"
     ]
    }
   ],
   "source": [
    "history = model_lstm.fit(X_tr_t, y_train, epochs=500, batch_size=50, validation_split=0.1, verbose=1, shuffle=False, callbacks=[early_stop])"
   ]
  },
  {
   "cell_type": "code",
   "execution_count": 435,
   "metadata": {},
   "outputs": [
    {
     "name": "stdout",
     "output_type": "stream",
     "text": [
      "The R2 score on the Train set is:\t0.997\n",
      "The Adjusted R2 score on the Train set is:\t0.997\n",
      "\n",
      "The R2 score on the Test set is:\t0.980\n",
      "The Adjusted R2 score on the Test set is:\t0.980\n",
      "rms error is: 0.0155027585624\n"
     ]
    }
   ],
   "source": [
    "y_pred_test_lstm = model_lstm.predict(X_tst_t)\n",
    "y_train_pred_lstm = model_lstm.predict(X_tr_t)\n",
    "print(\"The R2 score on the Train set is:\\t{:0.3f}\".format(r2_score(y_train, y_train_pred_lstm)))\n",
    "r2_train = r2_score(y_train, y_train_pred_lstm)\n",
    "print(\"The Adjusted R2 score on the Train set is:\\t{:0.3f}\\n\".format(adj_r2_score(r2_train, X_train.shape[0], X_train.shape[1])))\n",
    "print(\"The R2 score on the Test set is:\\t{:0.3f}\".format(r2_score(y_test, y_pred_test_lstm)))\n",
    "r2_test = r2_score(y_test, y_pred_test_lstm)\n",
    "print(\"The Adjusted R2 score on the Test set is:\\t{:0.3f}\".format(adj_r2_score(r2_test, X_test.shape[0], X_test.shape[1])))\n",
    "def rmse(predictions, targets):\n",
    "    return np.sqrt(((predictions - targets) ** 2).mean())\n",
    "\n",
    "rmse_val = rmse(y_pred_test_lstm, y_test)\n",
    "print(\"rms error is: \" + str(rmse_val))"
   ]
  },
  {
   "cell_type": "code",
   "execution_count": 436,
   "metadata": {},
   "outputs": [],
   "source": [
    "model_lstm.save('LSTM_NonShift.h5')"
   ]
  },
  {
   "cell_type": "code",
   "execution_count": 437,
   "metadata": {},
   "outputs": [
    {
     "data": {
      "image/png": "[encoded data removed]",
      "text/plain": [
       "<matplotlib.figure.Figure at 0x7f979490bdd8>"
      ]
     },
     "metadata": {
      "needs_background": "light"
     },
     "output_type": "display_data"
    }
   ],
   "source": [
    "plt.plot(y_test, label='True')\n",
    "plt.plot(y_pred_test_lstm, label='LSTM')\n",
    "plt.title(\"LSTM's_Prediction\")\n",
    "plt.xlabel('Observation')\n",
    "plt.ylabel('Close _Scaled')\n",
    "plt.legend()\n",
    "plt.show()"
   ]
  },
  {
   "cell_type": "code",
   "execution_count": 438,
   "metadata": {},
   "outputs": [
    {
     "data": {
      "image/png": "[encoded data removed]",
      "text/plain": [
       "<matplotlib.figure.Figure at 0x7f97948ab780>"
      ]
     },
     "metadata": {
      "needs_background": "light"
     },
     "output_type": "display_data"
    }
   ],
   "source": [
    "pyplot.plot(history.history['loss'])\n",
    "pyplot.plot(history.history['val_loss'])\n",
    "pyplot.title('model train vs validation loss')\n",
    "pyplot.ylabel('loss')\n",
    "pyplot.xlabel('epoch')\n",
    "pyplot.legend(['train', 'validation'], loc='upper right')\n",
    "pyplot.show()"
   ]
  },
  {
   "cell_type": "code",
   "execution_count": null,
   "metadata": {},
   "outputs": [],
   "source": []
  },
  {
   "cell_type": "code",
   "execution_count": null,
   "metadata": {},
   "outputs": [],
   "source": []
  }
 ],
 "metadata": {
  "kernelspec": {
   "display_name": "Python 3",
   "language": "python",
   "name": "python3"
  },
  "language_info": {
   "codemirror_mode": {
    "name": "ipython",
    "version": 3
   },
   "file_extension": ".py",
   "mimetype": "text/x-python",
   "name": "python",
   "nbconvert_exporter": "python",
   "pygments_lexer": "ipython3",
   "version": "3.6.3"
  }
 },
 "nbformat": 4,
 "nbformat_minor": 2
}
